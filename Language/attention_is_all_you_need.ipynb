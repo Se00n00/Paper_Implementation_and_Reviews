{
 "cells": [
  {
   "cell_type": "code",
   "execution_count": 6,
   "id": "884e4ad2",
   "metadata": {},
   "outputs": [],
   "source": [
    "import torch\n",
    "import torch.nn as nn"
   ]
  },
  {
   "cell_type": "code",
   "execution_count": 5,
   "id": "0d117017",
   "metadata": {},
   "outputs": [
    {
     "name": "stdout",
     "output_type": "stream",
     "text": [
      "Using device: cpu\n"
     ]
    }
   ],
   "source": [
    "device = torch.device(\"cuda\" if torch.cuda.is_available() else \"cpu\")\n",
    "print(f\"Using device: {device}\")"
   ]
  },
  {
   "cell_type": "markdown",
   "id": "cf69ea65",
   "metadata": {},
   "source": [
    "## Feed Forward Layer\n",
    "*It Process Each Embedding Sepeartly insteaad of processing whole as single vector, that's why it is also called **Position-Wise Feed Forward Layer***"
   ]
  },
  {
   "cell_type": "code",
   "execution_count": 11,
   "id": "8fa7e808",
   "metadata": {},
   "outputs": [],
   "source": [
    "class FeedForward(nn.Module):\n",
    "    def __init__(self, model_dim, ff_dim, droupout=0.5):    # ff_dim is usally higher that model_dim\n",
    "        super(FeedForward, self).__init__()\n",
    "\n",
    "        self.fc1 = nn.Linear(model_dim, ff_dim)\n",
    "        self.fc2 = nn.Linear(ff_dim, model_dim)\n",
    "        self.relu = nn.ReLU()\n",
    "        self.droupout = nn.Dropout(droupout)\n",
    "    \n",
    "    def forward(self, x):\n",
    "        x = self.relu(self.fc1(x))\n",
    "        x = self.fc2(x)\n",
    "\n",
    "        x = self.droupout(x)       # apply dropout to the output of the second linear layer to reduce overfitting\n",
    "        return x"
   ]
  },
  {
   "cell_type": "code",
   "execution_count": 12,
   "id": "c26db5be",
   "metadata": {},
   "outputs": [],
   "source": [
    "class Config:\n",
    "    model_dim = 512\n",
    "    ff_dim = 2048   # usually 4 times model_dim\n",
    "    dropout = 0.1   "
   ]
  },
  {
   "cell_type": "code",
   "execution_count": 13,
   "id": "63e6dda2",
   "metadata": {},
   "outputs": [
    {
     "name": "stdout",
     "output_type": "stream",
     "text": [
      "FeedForward(\n",
      "  (fc1): Linear(in_features=512, out_features=2048, bias=True)\n",
      "  (fc2): Linear(in_features=2048, out_features=512, bias=True)\n",
      "  (relu): ReLU()\n",
      "  (droupout): Dropout(p=0.1, inplace=False)\n",
      ")\n"
     ]
    }
   ],
   "source": [
    "feed_forward = FeedForward(Config.model_dim, Config.ff_dim, Config.dropout).to(device)\n",
    "print(feed_forward)"
   ]
  }
 ],
 "metadata": {
  "kernelspec": {
   "display_name": "base",
   "language": "python",
   "name": "python3"
  },
  "language_info": {
   "codemirror_mode": {
    "name": "ipython",
    "version": 3
   },
   "file_extension": ".py",
   "mimetype": "text/x-python",
   "name": "python",
   "nbconvert_exporter": "python",
   "pygments_lexer": "ipython3",
   "version": "3.12.7"
  }
 },
 "nbformat": 4,
 "nbformat_minor": 5
}
